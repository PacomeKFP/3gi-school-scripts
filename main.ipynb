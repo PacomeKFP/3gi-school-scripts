{
 "cells": [
  {
   "cell_type": "markdown",
   "metadata": {},
   "source": [
    "# Implementation du cryptosysteme BIKE candidate pour la selection du NIST dans le cadre des systemes Post quantiques\n",
    "==================================\n",
    "\n",
    "BIKE: Bit Flipping Key Encapsulation est un systeme de cryptographique asymetrique\n",
    "Son utilité reside dans la transmission securisée des clés de chiffrement pour des systemes crytographiques symetriques.\n",
    "C'est à dire que BIKE permet en realité d'encapsuler (chiffrer) une clé pour un systeme cryptographique symetrique afin de transmettre celle ci à un interlocuteur.\n",
    "\n",
    "Le syteme est decomposable en 3 principales parties:\n",
    "- La generation des clés\n",
    "- L'encapsulation (Chiffrement)\n",
    "- La decapsulation (Déchiffrement)\n",
    "\n",
    "## Notations à considerer dans la suite\n",
    "\n",
    "## La generation des "
   ]
  },
  {
   "cell_type": "markdown",
   "metadata": {},
   "source": [
    "## Generation des clés\n",
    "Ici is s'agit de generer h<sub>0</sub> et h<sub>1</sub> en se basant uniquement sur le niveau de securité quantique cherché l"
   ]
  },
  {
   "cell_type": "code",
   "execution_count": null,
   "metadata": {
    "vscode": {
     "languageId": "plaintext"
    }
   },
   "outputs": [],
   "source": [
    "import secrets"
   ]
  },
  {
   "cell_type": "code",
   "execution_count": null,
   "metadata": {
    "vscode": {
     "languageId": "plaintext"
    }
   },
   "outputs": [],
   "source": [
    "def keygen(λ):\n",
    "    # λ : le niveau de sécurité quantique visé\n",
    "    # on suppose que λ est valide\n",
    "\n",
    "    # on fixe les paramètres r et w en fonction de λ\n",
    "    if λ == 64:\n",
    "        r = 1233\n",
    "        w = 142\n",
    "    elif λ == 80:\n",
    "        r = 1988\n",
    "        w = 198\n",
    "    elif λ == 96:\n",
    "        r = 2401\n",
    "        w = 240\n",
    "    elif λ == 128:\n",
    "        r = 3277\n",
    "        w = 312\n",
    "    else:\n",
    "        raise ValueError(\"λ invalide\")\n",
    "\n",
    "    # on génère h0 et h1 de poids impair w/2\n",
    "    h0 = secrets.randbits(r) # un nombre aléatoire de r bits\n",
    "    h1 = secrets.randbits(r) # un autre nombre aléatoire de r bits\n",
    "    while bin(h0).count(\"1\") != w//2 or h0 % 2 == 0: # tant que h0 n'a pas le bon poids ou est pair\n",
    "        h0 = secrets.randbits(r) # on regénère h0\n",
    "    while bin(h1).count(\"1\") != w//2 or h1 % 2 == 0: # tant que h1 n'a pas le bon poids ou est pair\n",
    "        h1 = secrets.randbits(r) # on regénère h1\n",
    "\n",
    "    # on génère g de poids impair r/2\n",
    "    g = secrets.randbits(r) # un nombre aléatoire de r bits\n",
    "    while bin(g).count(\"1\") != r//2 or g % 2 == 0: # tant que g n'a pas le bon poids ou est pair\n",
    "        g = secrets.randbits(r) # on regénère g\n",
    "\n",
    "    # on calcule f0 et f1 en multipliant g par h1 et h0\n",
    "    f0 = (g * h1) % (2**r - 1) # le produit modulo X^r - 1\n",
    "    f1 = (g * h0) % (2**r - 1) # le produit modulo X^r - 1\n",
    "\n",
    "    # on renvoie la clé privée (h0, h1) et la clé publique (f0, f1)\n",
    "    return (h0, h1), (f0, f1)\n"
   ]
  }
 ],
 "metadata": {
  "language_info": {
   "name": "python"
  }
 },
 "nbformat": 4,
 "nbformat_minor": 2
}
