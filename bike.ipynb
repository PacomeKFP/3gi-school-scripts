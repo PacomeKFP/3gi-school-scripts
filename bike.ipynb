{
 "cells": [
  {
   "cell_type": "markdown",
   "metadata": {},
   "source": [
    "## Utils\n"
   ]
  },
  {
   "cell_type": "code",
   "execution_count": 21,
   "metadata": {},
   "outputs": [],
   "source": [
    "import random"
   ]
  },
  {
   "cell_type": "code",
   "execution_count": 23,
   "metadata": {},
   "outputs": [],
   "source": [
    "LAMBDA = 1\n",
    "\n",
    "\n",
    "class BikeParams:\n",
    "    def __init__(self, quantum_security_level = LAMBDA, bike_variant = 1 | 2):\n",
    "        if bike_variant in [1, 2]:\n",
    "            if quantum_security_level == 1:\n",
    "                self.n, self.r, self.w, self.t = 20326, 10163, 142, 134\n",
    "            if quantum_security_level == 3:\n",
    "                self.n, self.r, self.w, self.t = 39706, 19853, 206, 199\n",
    "            if quantum_security_level == 5:\n",
    "                self.n, self.r, self.w, self.t = 65498, 32749, 274, 264\n",
    "        \n",
    "        else:\n",
    "            if quantum_security_level == 1:\n",
    "                self.n, self.r, self.w, self.t = 22054, 11027, 134, 154\n",
    "            if quantum_security_level == 3:\n",
    "                self.n, self.r, self.w, self.t = 43366, 21683, 198, 226\n",
    "            if quantum_security_level == 5:\n",
    "                self.n, self.r, self.w, self.t = 72262, 36131, 266, 300\n",
    "            \n",
    "BIKE = BikeParams()\n"
   ]
  },
  {
   "cell_type": "code",
   "execution_count": 38,
   "metadata": {},
   "outputs": [],
   "source": [
    "\n",
    "\n",
    "class Utils:\n",
    "\n",
    "    def __init__(self) -> None:\n",
    "        pass\n",
    "\n",
    "    def odd_div_2(r = BIKE.r)->int:\n",
    "        if (r // 2) % 2 == 0:\n",
    "            return r//2 + 1\n",
    "        return r//2\n",
    "\n",
    "\n",
    "\n",
    "\n",
    "class BinaryPolynom:  # Polynom or Vector\n",
    "    def __init__(self, r=BIKE.r) -> None:\n",
    "        self.degree = r-1\n",
    "        self.coefficients = [0 for i in range(self.degree+1)]\n",
    "        pass\n",
    "\n",
    "    def from_list(self, l):\n",
    "        self.coefficients = [element for element in l]\n",
    "\n",
    "    def get_random_polynom_with_weight(self, w = BIKE.w):\n",
    "        self.coefficients[:w//2] = [1 for i in range(w//2)]\n",
    "        random.shuffle(self.coefficients)\n",
    "\n",
    "    def hamming_weight(self):\n",
    "        return self.coefficients.count(1)\n",
    "\n",
    "    def transpose(self):\n",
    "        self.coefficients[1:] = self.coefficients[1:][::-1]\n",
    "    \n",
    "    def __str__(self) -> str:\n",
    "        return \"\".join(str(bit) for bit in  self.coefficients)\n",
    "    \n",
    "    def __repr__(self) -> str:\n",
    "        return str(self.coefficients)\n",
    "\n",
    "    def __add__(a, b):\n",
    "        c = BinaryPolynom(a.degree+1)\n",
    "        for i in range(a.degree+1):\n",
    "            c.coefficients[i] = a.coefficients[i] ^ b.coefficients[i]\n",
    "        return c\n",
    "\n",
    "    def __eq__(self, __value: object) -> bool:\n",
    "\n",
    "        if not isinstance(__value, BinaryPolynom):\n",
    "            return False\n",
    "        if self.degree != __value.degree:\n",
    "            return False\n",
    "        \n",
    "        for i in range(self.degree+1):\n",
    "            if self.coefficients[i] != __value.coefficients[i]:\n",
    "                return False\n",
    "        return True\n",
    "    \n",
    "    def __sub__(a, b):\n",
    "        c = BinaryPolynom(a.degree+1)\n",
    "        for i in range(a.degree+1):\n",
    "            c.coefficients[i] = a.coefficients[i] ^ b.coefficients[i]\n",
    "        return c\n",
    "\n",
    "    def __mul__(a, b):\n",
    "        c = BinaryPolynom(a.degree+1)\n",
    "\n",
    "        for k in range(b.degree+1):\n",
    "            for j in range(k+1):\n",
    "                c.coefficients[k] ^= a.coefficients[j]&b.coefficients[k-j]\n",
    "            \n",
    "        return c\n",
    "        \n"
   ]
  },
  {
   "cell_type": "code",
   "execution_count": 52,
   "metadata": {},
   "outputs": [
    {
     "name": "stdout",
     "output_type": "stream",
     "text": [
      "0000101001011000010001010\n",
      "0010100010000110100101000\n"
     ]
    }
   ],
   "source": [
    "a = BinaryPolynom(25)\n",
    "a.get_random_polynom_with_weight(17)\n",
    "\n",
    "b = BinaryPolynom(25)\n",
    "b.get_random_polynom_with_weight(16)\n",
    "\n",
    "\n",
    "\n",
    "print(a)\n",
    "a.transpose()\n",
    "print(a)\n"
   ]
  },
  {
   "cell_type": "markdown",
   "metadata": {},
   "source": [
    "## Key Generation"
   ]
  },
  {
   "cell_type": "code",
   "execution_count": 26,
   "metadata": {},
   "outputs": [],
   "source": [
    "h_0 = BinaryPolynom()\n",
    "h_0.get_random_polynom_with_weight()\n",
    "\n",
    "h_1 = BinaryPolynom()\n",
    "h_1.get_random_polynom_with_weight()\n",
    "\n",
    "secret_key = (h_0, h_1)\n",
    "\n",
    "g = BinaryPolynom()\n",
    "g.get_random_polynom_with_weight(Utils.odd_div_2()) # BIKE 3\n",
    "\n",
    "public_key = (h_1*g, h_0*g) # BIKE 1 & BIKE 3"
   ]
  },
  {
   "cell_type": "markdown",
   "metadata": {},
   "source": [
    "## Encryption"
   ]
  },
  {
   "cell_type": "code",
   "execution_count": 27,
   "metadata": {},
   "outputs": [],
   "source": [
    "import hashlib\n",
    "\n",
    "# Generer e0 et e1 deux polynomes tels que |e0| + |e1| = t\n",
    "\n",
    "def brute_force_generator(t = BIKE.t):\n",
    "\n",
    "    is_ok = False\n",
    "    e0, e1 = BinaryPolynom(), BinaryPolynom()\n",
    "    while not is_ok:\n",
    "        e0.get_random_polynom_with_weight(random.randint(1, t))\n",
    "        e1.get_random_polynom_with_weight(random.randint(1, t))\n",
    "        is_ok = (e0.hamming_weight() + e1.hamming_weight() == t)\n",
    "    \n",
    "    return e0, e1\n",
    "\n",
    "def brute_force_generator_2(t = BIKE.t):\n",
    "    k = random.randint(1, t)\n",
    "    e0, e1 = BinaryPolynom(), BinaryPolynom()\n",
    "    e0.get_random_polynom_with_weight(k)\n",
    "    e1.get_random_polynom_with_weight(t-k)\n",
    "    \n",
    "    return e0, e1\n",
    "\n",
    "def K(e_0, e_1):\n",
    "    bit_string = str(e_0) + str(e_1)\n",
    "    hash = hashlib.sha3_256()\n",
    "    hash.update(bit_string.encode())\n",
    "\n",
    "    return hash.digest()[:32]"
   ]
  },
  {
   "cell_type": "code",
   "execution_count": 28,
   "metadata": {},
   "outputs": [],
   "source": [
    "m = BinaryPolynom()\n",
    "e_0, e_1 = brute_force_generator_2()\n",
    "\n",
    "c_0, c_1 = m*public_key[0] + e_0, m*public_key[1] + e_1  # BIKE 1\n",
    "\n",
    "symmetric_key = K(e_0, e_1)"
   ]
  },
  {
   "cell_type": "code",
   "execution_count": 29,
   "metadata": {},
   "outputs": [
    {
     "data": {
      "text/plain": [
       "b'\\t\\x85\\xe5\\ra\\xe5\\x1c>\\xce\\xfa\\x93\\xd7\\x01\\xa3R\\xbe\\x9e\\x17\\x96\\x8f~\\xf0\\x9b\\xaf\\xfe5h\\x16\\xc8\\xa0\\xff\\xcc'"
      ]
     },
     "execution_count": 29,
     "metadata": {},
     "output_type": "execute_result"
    }
   ],
   "source": []
  },
  {
   "cell_type": "markdown",
   "metadata": {},
   "source": [
    "## Decription"
   ]
  },
  {
   "cell_type": "code",
   "execution_count": null,
   "metadata": {},
   "outputs": [],
   "source": [
    "def decode(s, h_0, h_1, u):\n",
    "    \n",
    "\n",
    "    "
   ]
  },
  {
   "cell_type": "code",
   "execution_count": null,
   "metadata": {},
   "outputs": [],
   "source": [
    "# calcule du syndrome\n",
    "s = c_0*h_0 + c_1*h_1\n",
    "u = 0\n",
    "\n",
    "# Decoder s pour retrouver (e_0_prime, e_1_prime)\n",
    "\n",
    "\n",
    "\n",
    "symmetric_key_decapsuled = bytes()\n",
    "e_0_prime, e_1_prime = BinaryPolynom(), BinaryPolynom()\n",
    "if e_0_prime.hamming_weight()  + e_1_prime.hamming_weight() != BIKE.t:\n",
    "    print(\"Decapsulation error !\")\n",
    "    \n",
    "else:\n",
    "    symmetric_key_decapsuled = K(e_0_prime, e_1_prime)\n",
    " "
   ]
  },
  {
   "cell_type": "markdown",
   "metadata": {},
   "source": [
    "## BIKE Entry point"
   ]
  },
  {
   "cell_type": "code",
   "execution_count": null,
   "metadata": {},
   "outputs": [],
   "source": [
    "\n",
    "# Fonction principale pour exécuter les fonctionnalités de BIKE\n",
    "def main():\n",
    "    # Générer les clés publiques et privées\n",
    "    public_key, private_key = key_generation.generate_key_pair()\n",
    "\n",
    "    # Message à chiffrer\n",
    "    message = \"Hello, World!\"\n",
    "\n",
    "    # Chiffrement du message avec la clé publique\n",
    "    ciphertext = encryption.encrypt(message, public_key)\n",
    "\n",
    "    # Déchiffrement du message chiffré avec la clé privée\n",
    "    decrypted_message = decryption.decrypt(ciphertext, private_key)\n",
    "\n",
    "    # Affichage des résultats\n",
    "    print(\"Message clair :\", message)\n",
    "    print(\"Message chiffré :\", ciphertext)\n",
    "    print(\"Message déchiffré :\", decrypted_message)\n",
    "\n",
    "# Exécution de la fonction principale\n",
    "if __name__ == \"__main__\":\n",
    "    main()"
   ]
  }
 ],
 "metadata": {
  "kernelspec": {
   "display_name": ".venv",
   "language": "python",
   "name": "python3"
  },
  "language_info": {
   "codemirror_mode": {
    "name": "ipython",
    "version": 3
   },
   "file_extension": ".py",
   "mimetype": "text/x-python",
   "name": "python",
   "nbconvert_exporter": "python",
   "pygments_lexer": "ipython3",
   "version": "3.8.10"
  }
 },
 "nbformat": 4,
 "nbformat_minor": 2
}
